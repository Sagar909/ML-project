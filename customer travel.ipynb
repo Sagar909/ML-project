{
 "cells": [
  {
   "cell_type": "code",
   "execution_count": 1,
   "id": "821bb6c9",
   "metadata": {},
   "outputs": [],
   "source": [
    "#import library\n",
    "import pandas as pd\n",
    "import numpy as np\n",
    "import matplotlib.pyplot as plt\n",
    "import seaborn as sns\n",
    "import warnings\n",
    "warnings.filterwarnings(\"ignore\") "
   ]
  },
  {
   "cell_type": "code",
   "execution_count": 2,
   "id": "0c0ee0ae",
   "metadata": {},
   "outputs": [],
   "source": [
    "#read Customertravel.csv file.\n",
    "df=pd.read_csv(\"Customertravel.csv\")"
   ]
  },
  {
   "cell_type": "code",
   "execution_count": 3,
   "id": "ab9e50d4",
   "metadata": {},
   "outputs": [
    {
     "data": {
      "text/html": [
       "<div>\n",
       "<style scoped>\n",
       "    .dataframe tbody tr th:only-of-type {\n",
       "        vertical-align: middle;\n",
       "    }\n",
       "\n",
       "    .dataframe tbody tr th {\n",
       "        vertical-align: top;\n",
       "    }\n",
       "\n",
       "    .dataframe thead th {\n",
       "        text-align: right;\n",
       "    }\n",
       "</style>\n",
       "<table border=\"1\" class=\"dataframe\">\n",
       "  <thead>\n",
       "    <tr style=\"text-align: right;\">\n",
       "      <th></th>\n",
       "      <th>Age</th>\n",
       "      <th>FrequentFlyer</th>\n",
       "      <th>AnnualIncomeClass</th>\n",
       "      <th>ServicesOpted</th>\n",
       "      <th>AccountSyncedToSocialMedia</th>\n",
       "      <th>BookedHotelOrNot</th>\n",
       "      <th>Target</th>\n",
       "    </tr>\n",
       "  </thead>\n",
       "  <tbody>\n",
       "    <tr>\n",
       "      <th>0</th>\n",
       "      <td>34</td>\n",
       "      <td>No</td>\n",
       "      <td>Middle Income</td>\n",
       "      <td>6</td>\n",
       "      <td>No</td>\n",
       "      <td>Yes</td>\n",
       "      <td>0</td>\n",
       "    </tr>\n",
       "    <tr>\n",
       "      <th>1</th>\n",
       "      <td>34</td>\n",
       "      <td>Yes</td>\n",
       "      <td>Low Income</td>\n",
       "      <td>5</td>\n",
       "      <td>Yes</td>\n",
       "      <td>No</td>\n",
       "      <td>1</td>\n",
       "    </tr>\n",
       "    <tr>\n",
       "      <th>2</th>\n",
       "      <td>37</td>\n",
       "      <td>No</td>\n",
       "      <td>Middle Income</td>\n",
       "      <td>3</td>\n",
       "      <td>Yes</td>\n",
       "      <td>No</td>\n",
       "      <td>0</td>\n",
       "    </tr>\n",
       "    <tr>\n",
       "      <th>3</th>\n",
       "      <td>30</td>\n",
       "      <td>No</td>\n",
       "      <td>Middle Income</td>\n",
       "      <td>2</td>\n",
       "      <td>No</td>\n",
       "      <td>No</td>\n",
       "      <td>0</td>\n",
       "    </tr>\n",
       "    <tr>\n",
       "      <th>4</th>\n",
       "      <td>30</td>\n",
       "      <td>No</td>\n",
       "      <td>Low Income</td>\n",
       "      <td>1</td>\n",
       "      <td>No</td>\n",
       "      <td>No</td>\n",
       "      <td>0</td>\n",
       "    </tr>\n",
       "  </tbody>\n",
       "</table>\n",
       "</div>"
      ],
      "text/plain": [
       "   Age FrequentFlyer AnnualIncomeClass  ServicesOpted  \\\n",
       "0   34            No     Middle Income              6   \n",
       "1   34           Yes        Low Income              5   \n",
       "2   37            No     Middle Income              3   \n",
       "3   30            No     Middle Income              2   \n",
       "4   30            No        Low Income              1   \n",
       "\n",
       "  AccountSyncedToSocialMedia BookedHotelOrNot  Target  \n",
       "0                         No              Yes       0  \n",
       "1                        Yes               No       1  \n",
       "2                        Yes               No       0  \n",
       "3                         No               No       0  \n",
       "4                         No               No       0  "
      ]
     },
     "execution_count": 3,
     "metadata": {},
     "output_type": "execute_result"
    }
   ],
   "source": [
    "#shoe first 5 rows.\n",
    "df.head()"
   ]
  },
  {
   "cell_type": "code",
   "execution_count": 4,
   "id": "1ed5bd21",
   "metadata": {},
   "outputs": [
    {
     "name": "stdout",
     "output_type": "stream",
     "text": [
      "<class 'pandas.core.frame.DataFrame'>\n",
      "RangeIndex: 954 entries, 0 to 953\n",
      "Data columns (total 7 columns):\n",
      " #   Column                      Non-Null Count  Dtype \n",
      "---  ------                      --------------  ----- \n",
      " 0   Age                         954 non-null    int64 \n",
      " 1   FrequentFlyer               954 non-null    object\n",
      " 2   AnnualIncomeClass           954 non-null    object\n",
      " 3   ServicesOpted               954 non-null    int64 \n",
      " 4   AccountSyncedToSocialMedia  954 non-null    object\n",
      " 5   BookedHotelOrNot            954 non-null    object\n",
      " 6   Target                      954 non-null    int64 \n",
      "dtypes: int64(3), object(4)\n",
      "memory usage: 52.3+ KB\n"
     ]
    }
   ],
   "source": [
    "#check dataset information \n",
    "df.info()"
   ]
  },
  {
   "cell_type": "markdown",
   "id": "694f61a1",
   "metadata": {},
   "source": [
    "# Label encoding"
   ]
  },
  {
   "cell_type": "code",
   "execution_count": 5,
   "id": "d971cadf",
   "metadata": {},
   "outputs": [],
   "source": [
    "#categorical encoding is a process of converting categories to number.\n",
    "df_a= df.select_dtypes(object)\n",
    "df_b = df.select_dtypes([\"int\",\"float\"])"
   ]
  },
  {
   "cell_type": "code",
   "execution_count": 6,
   "id": "adc52dbf",
   "metadata": {},
   "outputs": [],
   "source": [
    "#first import required library for label encoding \n",
    "from sklearn.preprocessing import LabelEncoder\n",
    "for i in df_a:\n",
    "    le = LabelEncoder()\n",
    "    df_a[i]=le.fit_transform(df_a[i])"
   ]
  },
  {
   "cell_type": "code",
   "execution_count": 7,
   "id": "b2ef56b3",
   "metadata": {},
   "outputs": [],
   "source": [
    "#combined dataframe rows and column.\n",
    "df1=pd.concat([df_a,df_b],axis=1)"
   ]
  },
  {
   "cell_type": "code",
   "execution_count": 8,
   "id": "e60cb8a5",
   "metadata": {},
   "outputs": [
    {
     "data": {
      "text/html": [
       "<div>\n",
       "<style scoped>\n",
       "    .dataframe tbody tr th:only-of-type {\n",
       "        vertical-align: middle;\n",
       "    }\n",
       "\n",
       "    .dataframe tbody tr th {\n",
       "        vertical-align: top;\n",
       "    }\n",
       "\n",
       "    .dataframe thead th {\n",
       "        text-align: right;\n",
       "    }\n",
       "</style>\n",
       "<table border=\"1\" class=\"dataframe\">\n",
       "  <thead>\n",
       "    <tr style=\"text-align: right;\">\n",
       "      <th></th>\n",
       "      <th>FrequentFlyer</th>\n",
       "      <th>AnnualIncomeClass</th>\n",
       "      <th>AccountSyncedToSocialMedia</th>\n",
       "      <th>BookedHotelOrNot</th>\n",
       "      <th>Age</th>\n",
       "      <th>ServicesOpted</th>\n",
       "      <th>Target</th>\n",
       "    </tr>\n",
       "  </thead>\n",
       "  <tbody>\n",
       "    <tr>\n",
       "      <th>0</th>\n",
       "      <td>0</td>\n",
       "      <td>2</td>\n",
       "      <td>0</td>\n",
       "      <td>1</td>\n",
       "      <td>34</td>\n",
       "      <td>6</td>\n",
       "      <td>0</td>\n",
       "    </tr>\n",
       "    <tr>\n",
       "      <th>1</th>\n",
       "      <td>2</td>\n",
       "      <td>1</td>\n",
       "      <td>1</td>\n",
       "      <td>0</td>\n",
       "      <td>34</td>\n",
       "      <td>5</td>\n",
       "      <td>1</td>\n",
       "    </tr>\n",
       "    <tr>\n",
       "      <th>2</th>\n",
       "      <td>0</td>\n",
       "      <td>2</td>\n",
       "      <td>1</td>\n",
       "      <td>0</td>\n",
       "      <td>37</td>\n",
       "      <td>3</td>\n",
       "      <td>0</td>\n",
       "    </tr>\n",
       "    <tr>\n",
       "      <th>3</th>\n",
       "      <td>0</td>\n",
       "      <td>2</td>\n",
       "      <td>0</td>\n",
       "      <td>0</td>\n",
       "      <td>30</td>\n",
       "      <td>2</td>\n",
       "      <td>0</td>\n",
       "    </tr>\n",
       "    <tr>\n",
       "      <th>4</th>\n",
       "      <td>0</td>\n",
       "      <td>1</td>\n",
       "      <td>0</td>\n",
       "      <td>0</td>\n",
       "      <td>30</td>\n",
       "      <td>1</td>\n",
       "      <td>0</td>\n",
       "    </tr>\n",
       "    <tr>\n",
       "      <th>...</th>\n",
       "      <td>...</td>\n",
       "      <td>...</td>\n",
       "      <td>...</td>\n",
       "      <td>...</td>\n",
       "      <td>...</td>\n",
       "      <td>...</td>\n",
       "      <td>...</td>\n",
       "    </tr>\n",
       "    <tr>\n",
       "      <th>949</th>\n",
       "      <td>2</td>\n",
       "      <td>1</td>\n",
       "      <td>0</td>\n",
       "      <td>0</td>\n",
       "      <td>31</td>\n",
       "      <td>1</td>\n",
       "      <td>0</td>\n",
       "    </tr>\n",
       "    <tr>\n",
       "      <th>950</th>\n",
       "      <td>0</td>\n",
       "      <td>2</td>\n",
       "      <td>0</td>\n",
       "      <td>1</td>\n",
       "      <td>30</td>\n",
       "      <td>5</td>\n",
       "      <td>0</td>\n",
       "    </tr>\n",
       "    <tr>\n",
       "      <th>951</th>\n",
       "      <td>0</td>\n",
       "      <td>2</td>\n",
       "      <td>0</td>\n",
       "      <td>0</td>\n",
       "      <td>37</td>\n",
       "      <td>4</td>\n",
       "      <td>0</td>\n",
       "    </tr>\n",
       "    <tr>\n",
       "      <th>952</th>\n",
       "      <td>0</td>\n",
       "      <td>1</td>\n",
       "      <td>1</td>\n",
       "      <td>1</td>\n",
       "      <td>30</td>\n",
       "      <td>1</td>\n",
       "      <td>0</td>\n",
       "    </tr>\n",
       "    <tr>\n",
       "      <th>953</th>\n",
       "      <td>2</td>\n",
       "      <td>0</td>\n",
       "      <td>0</td>\n",
       "      <td>0</td>\n",
       "      <td>31</td>\n",
       "      <td>1</td>\n",
       "      <td>0</td>\n",
       "    </tr>\n",
       "  </tbody>\n",
       "</table>\n",
       "<p>954 rows × 7 columns</p>\n",
       "</div>"
      ],
      "text/plain": [
       "     FrequentFlyer  AnnualIncomeClass  AccountSyncedToSocialMedia  \\\n",
       "0                0                  2                           0   \n",
       "1                2                  1                           1   \n",
       "2                0                  2                           1   \n",
       "3                0                  2                           0   \n",
       "4                0                  1                           0   \n",
       "..             ...                ...                         ...   \n",
       "949              2                  1                           0   \n",
       "950              0                  2                           0   \n",
       "951              0                  2                           0   \n",
       "952              0                  1                           1   \n",
       "953              2                  0                           0   \n",
       "\n",
       "     BookedHotelOrNot  Age  ServicesOpted  Target  \n",
       "0                   1   34              6       0  \n",
       "1                   0   34              5       1  \n",
       "2                   0   37              3       0  \n",
       "3                   0   30              2       0  \n",
       "4                   0   30              1       0  \n",
       "..                ...  ...            ...     ...  \n",
       "949                 0   31              1       0  \n",
       "950                 1   30              5       0  \n",
       "951                 0   37              4       0  \n",
       "952                 1   30              1       0  \n",
       "953                 0   31              1       0  \n",
       "\n",
       "[954 rows x 7 columns]"
      ]
     },
     "execution_count": 8,
     "metadata": {},
     "output_type": "execute_result"
    }
   ],
   "source": [
    "df1"
   ]
  },
  {
   "cell_type": "code",
   "execution_count": 9,
   "id": "dead6d79",
   "metadata": {},
   "outputs": [
    {
     "data": {
      "text/html": [
       "<div>\n",
       "<style scoped>\n",
       "    .dataframe tbody tr th:only-of-type {\n",
       "        vertical-align: middle;\n",
       "    }\n",
       "\n",
       "    .dataframe tbody tr th {\n",
       "        vertical-align: top;\n",
       "    }\n",
       "\n",
       "    .dataframe thead th {\n",
       "        text-align: right;\n",
       "    }\n",
       "</style>\n",
       "<table border=\"1\" class=\"dataframe\">\n",
       "  <thead>\n",
       "    <tr style=\"text-align: right;\">\n",
       "      <th></th>\n",
       "      <th>FrequentFlyer</th>\n",
       "      <th>AnnualIncomeClass</th>\n",
       "      <th>AccountSyncedToSocialMedia</th>\n",
       "      <th>BookedHotelOrNot</th>\n",
       "      <th>Age</th>\n",
       "      <th>ServicesOpted</th>\n",
       "      <th>Target</th>\n",
       "    </tr>\n",
       "  </thead>\n",
       "  <tbody>\n",
       "    <tr>\n",
       "      <th>0</th>\n",
       "      <td>0</td>\n",
       "      <td>2</td>\n",
       "      <td>0</td>\n",
       "      <td>1</td>\n",
       "      <td>34</td>\n",
       "      <td>6</td>\n",
       "      <td>0</td>\n",
       "    </tr>\n",
       "    <tr>\n",
       "      <th>1</th>\n",
       "      <td>2</td>\n",
       "      <td>1</td>\n",
       "      <td>1</td>\n",
       "      <td>0</td>\n",
       "      <td>34</td>\n",
       "      <td>5</td>\n",
       "      <td>1</td>\n",
       "    </tr>\n",
       "    <tr>\n",
       "      <th>2</th>\n",
       "      <td>0</td>\n",
       "      <td>2</td>\n",
       "      <td>1</td>\n",
       "      <td>0</td>\n",
       "      <td>37</td>\n",
       "      <td>3</td>\n",
       "      <td>0</td>\n",
       "    </tr>\n",
       "    <tr>\n",
       "      <th>3</th>\n",
       "      <td>0</td>\n",
       "      <td>2</td>\n",
       "      <td>0</td>\n",
       "      <td>0</td>\n",
       "      <td>30</td>\n",
       "      <td>2</td>\n",
       "      <td>0</td>\n",
       "    </tr>\n",
       "    <tr>\n",
       "      <th>4</th>\n",
       "      <td>0</td>\n",
       "      <td>1</td>\n",
       "      <td>0</td>\n",
       "      <td>0</td>\n",
       "      <td>30</td>\n",
       "      <td>1</td>\n",
       "      <td>0</td>\n",
       "    </tr>\n",
       "  </tbody>\n",
       "</table>\n",
       "</div>"
      ],
      "text/plain": [
       "   FrequentFlyer  AnnualIncomeClass  AccountSyncedToSocialMedia  \\\n",
       "0              0                  2                           0   \n",
       "1              2                  1                           1   \n",
       "2              0                  2                           1   \n",
       "3              0                  2                           0   \n",
       "4              0                  1                           0   \n",
       "\n",
       "   BookedHotelOrNot  Age  ServicesOpted  Target  \n",
       "0                 1   34              6       0  \n",
       "1                 0   34              5       1  \n",
       "2                 0   37              3       0  \n",
       "3                 0   30              2       0  \n",
       "4                 0   30              1       0  "
      ]
     },
     "execution_count": 9,
     "metadata": {},
     "output_type": "execute_result"
    }
   ],
   "source": [
    "df1.head()"
   ]
  },
  {
   "cell_type": "code",
   "execution_count": 10,
   "id": "50b6c47b",
   "metadata": {},
   "outputs": [
    {
     "name": "stdout",
     "output_type": "stream",
     "text": [
      "<class 'pandas.core.frame.DataFrame'>\n",
      "RangeIndex: 954 entries, 0 to 953\n",
      "Data columns (total 7 columns):\n",
      " #   Column                      Non-Null Count  Dtype\n",
      "---  ------                      --------------  -----\n",
      " 0   FrequentFlyer               954 non-null    int32\n",
      " 1   AnnualIncomeClass           954 non-null    int32\n",
      " 2   AccountSyncedToSocialMedia  954 non-null    int32\n",
      " 3   BookedHotelOrNot            954 non-null    int32\n",
      " 4   Age                         954 non-null    int64\n",
      " 5   ServicesOpted               954 non-null    int64\n",
      " 6   Target                      954 non-null    int64\n",
      "dtypes: int32(4), int64(3)\n",
      "memory usage: 37.4 KB\n"
     ]
    }
   ],
   "source": [
    "df1.info()"
   ]
  },
  {
   "cell_type": "code",
   "execution_count": 11,
   "id": "7f7058c7",
   "metadata": {},
   "outputs": [],
   "source": [
    "#separate x and y\n",
    "x = df1.iloc[:,:-1]\n",
    "y = df1[\"Target\"]"
   ]
  },
  {
   "cell_type": "code",
   "execution_count": 12,
   "id": "6bdd4cfb",
   "metadata": {},
   "outputs": [],
   "source": [
    "#train test split evaluation;split original dataset into input x and output y  \n",
    "from sklearn.model_selection import train_test_split\n",
    "xtrain,xtest,ytrain,ytest=train_test_split(x,y,test_size=0.30,random_state=1)"
   ]
  },
  {
   "cell_type": "code",
   "execution_count": 13,
   "id": "3bfe98ec",
   "metadata": {},
   "outputs": [],
   "source": [
    "#model building.\n",
    "from sklearn.linear_model import LogisticRegression\n",
    "from sklearn.svm import SVC\n",
    "from sklearn.neighbors import KNeighborsClassifier\n",
    "from sklearn.tree import DecisionTreeClassifier\n",
    "from sklearn.metrics import *\n",
    "lr = LogisticRegression()\n",
    "svm = SVC()\n",
    "knn = KNeighborsClassifier()\n",
    "dt=DecisionTreeClassifier()"
   ]
  },
  {
   "cell_type": "code",
   "execution_count": 14,
   "id": "2e507ab2",
   "metadata": {},
   "outputs": [],
   "source": [
    "def md(m):\n",
    "    m.fit(xtrain,ytrain)\n",
    "    ypred = m.predict(xtest)\n",
    "    print(classification_report(ytest,ypred))"
   ]
  },
  {
   "cell_type": "code",
   "execution_count": 15,
   "id": "1ce90fab",
   "metadata": {},
   "outputs": [
    {
     "name": "stdout",
     "output_type": "stream",
     "text": [
      "              precision    recall  f1-score   support\n",
      "\n",
      "           0       0.88      0.93      0.90       234\n",
      "           1       0.59      0.43      0.50        53\n",
      "\n",
      "    accuracy                           0.84       287\n",
      "   macro avg       0.73      0.68      0.70       287\n",
      "weighted avg       0.83      0.84      0.83       287\n",
      "\n"
     ]
    }
   ],
   "source": [
    "#accuracy\n",
    "md(lr)"
   ]
  },
  {
   "cell_type": "code",
   "execution_count": 16,
   "id": "616323a6",
   "metadata": {},
   "outputs": [
    {
     "name": "stdout",
     "output_type": "stream",
     "text": [
      "              precision    recall  f1-score   support\n",
      "\n",
      "           0       0.82      1.00      0.90       234\n",
      "           1       0.00      0.00      0.00        53\n",
      "\n",
      "    accuracy                           0.82       287\n",
      "   macro avg       0.41      0.50      0.45       287\n",
      "weighted avg       0.66      0.82      0.73       287\n",
      "\n"
     ]
    }
   ],
   "source": [
    "md(svm)"
   ]
  },
  {
   "cell_type": "code",
   "execution_count": 17,
   "id": "84275287",
   "metadata": {},
   "outputs": [
    {
     "name": "stdout",
     "output_type": "stream",
     "text": [
      "              precision    recall  f1-score   support\n",
      "\n",
      "           0       0.93      0.90      0.91       234\n",
      "           1       0.61      0.68      0.64        53\n",
      "\n",
      "    accuracy                           0.86       287\n",
      "   macro avg       0.77      0.79      0.78       287\n",
      "weighted avg       0.87      0.86      0.86       287\n",
      "\n"
     ]
    }
   ],
   "source": [
    "md(dt)"
   ]
  },
  {
   "cell_type": "code",
   "execution_count": 18,
   "id": "9c43575f",
   "metadata": {},
   "outputs": [
    {
     "name": "stdout",
     "output_type": "stream",
     "text": [
      "              precision    recall  f1-score   support\n",
      "\n",
      "           0       0.91      0.91      0.91       234\n",
      "           1       0.61      0.62      0.62        53\n",
      "\n",
      "    accuracy                           0.86       287\n",
      "   macro avg       0.76      0.77      0.76       287\n",
      "weighted avg       0.86      0.86      0.86       287\n",
      "\n"
     ]
    }
   ],
   "source": [
    "md(knn)"
   ]
  },
  {
   "cell_type": "code",
   "execution_count": 19,
   "id": "a0a89725",
   "metadata": {},
   "outputs": [
    {
     "data": {
      "text/plain": [
       "Text(0.5, 1.0, 'Target (0=no, 1=yes)')"
      ]
     },
     "execution_count": 19,
     "metadata": {},
     "output_type": "execute_result"
    },
    {
     "data": {
      "image/png": "[encoded data removed]",
      "text/plain": [
       "<Figure size 432x288 with 1 Axes>"
      ]
     },
     "metadata": {
      "needs_background": "light"
     },
     "output_type": "display_data"
    }
   ],
   "source": [
    "#the data is unbalanced,as around 72% are customer in the no-target class\n",
    "ax = sns.countplot(data=df1, x='Target')\n",
    "percentage = df1['Target']\n",
    "plt.title('Target (0=no, 1=yes)')"
   ]
  },
  {
   "cell_type": "code",
   "execution_count": 20,
   "id": "60a3a9f3",
   "metadata": {},
   "outputs": [
    {
     "data": {
      "image/png": "[encoded data removed]",
      "text/plain": [
       "<Figure size 432x288 with 1 Axes>"
      ]
     },
     "metadata": {
      "needs_background": "light"
     },
     "output_type": "display_data"
    }
   ],
   "source": [
    "#It looks like customers (30-37y) tend to  proportionally more often.\n",
    "#custmore churn:1 and doesnt churn:0\n",
    "sns.countplot(data=df1, x='Age', hue='Target').set_title('Target by Age');"
   ]
  },
  {
   "cell_type": "code",
   "execution_count": 21,
   "id": "b30f6419",
   "metadata": {},
   "outputs": [
    {
     "data": {
      "image/png": "[encoded data removed]",
      "text/plain": [
       "<Figure size 432x288 with 1 Axes>"
      ]
     },
     "metadata": {
      "needs_background": "light"
     },
     "output_type": "display_data"
    }
   ],
   "source": [
    "plt.hist([df1[df1.Target==0].Age, df1[df1.Target==1].Age], bins = 19, alpha =0.5,  align='mid',histtype = \"bar\", orientation='vertical',  label = [\"0\",\"1\"])\n",
    "plt.xlabel(\"Age\")\n",
    "plt.ylabel(\"Percentage\")\n",
    "plt.show()"
   ]
  },
  {
   "cell_type": "code",
   "execution_count": 22,
   "id": "63a511ae",
   "metadata": {},
   "outputs": [
    {
     "data": {
      "image/png": "[encoded data removed]",
      "text/plain": [
       "<Figure size 864x432 with 2 Axes>"
      ]
     },
     "metadata": {
      "needs_background": "light"
     },
     "output_type": "display_data"
    }
   ],
   "source": [
    "#Distribution of Frequent Flyer feature\n",
    "\n",
    "fig,axes = plt.subplots(nrows=1,ncols=2,figsize=(12,6))\n",
    "sns.countplot(data=df1,x='FrequentFlyer',ax=axes[0],palette='colorblind')\n",
    "sns.countplot(data=df1,x='FrequentFlyer',hue='Target',ax=axes[1],palette='colorblind')\n",
    "plt.show()"
   ]
  },
  {
   "cell_type": "code",
   "execution_count": 23,
   "id": "35882680",
   "metadata": {},
   "outputs": [
    {
     "data": {
      "image/png": "[encoded data removed]",
      "text/plain": [
       "<Figure size 576x432 with 2 Axes>"
      ]
     },
     "metadata": {
      "needs_background": "light"
     },
     "output_type": "display_data"
    }
   ],
   "source": [
    "plt.figure(figsize=(8,6))\n",
    "sns.heatmap(data=df1.corr(),cmap='viridis',annot=True)\n",
    "plt.show()"
   ]
  },
  {
   "cell_type": "code",
   "execution_count": 24,
   "id": "75a2e2d7",
   "metadata": {},
   "outputs": [
    {
     "data": {
      "text/plain": [
       "0    730\n",
       "1    224\n",
       "Name: Target, dtype: int64"
      ]
     },
     "execution_count": 24,
     "metadata": {},
     "output_type": "execute_result"
    }
   ],
   "source": [
    "\n",
    "#Label is unbalanced. we will have to keep this in mind when developing\n",
    "# the models\n",
    "df[\"Target\"].value_counts()"
   ]
  },
  {
   "cell_type": "raw",
   "id": "274a3843",
   "metadata": {},
   "source": [
    "Conclusion:\n",
    "1. Frequent Flyer status has the highest correlation to whether or not the customer churns.\n",
    "\n",
    "2. Being a frequent flyer and having high income are the two significant features where Churn exceeds Non-Churn. Intuitively, this makes sense. Someone with more money and who flys a lot is more likely to experiment with different travel companies if they have to travel a lot.\n",
    "\n",
    "3. 27 and 28 year olds churn more than any other age group.\n",
    "\n",
    "4. Overall, it appears that the more services that are opted, the lower the churn rate. It's interesting to explore because the churn rate is minimized at 3 services but starts to grow again after that point. But it seems to plateau and not get much higher.\n",
    "\n",
    "5. People who don't book hotels churn more than those who do, and intuitively this just makes sense."
   ]
  },
  {
   "cell_type": "code",
   "execution_count": 25,
   "id": "b4b926c2",
   "metadata": {},
   "outputs": [],
   "source": [
    "from imblearn.ensemble import BalancedBaggingClassifier\n",
    "from sklearn.tree import DecisionTreeClassifier"
   ]
  },
  {
   "cell_type": "code",
   "execution_count": 26,
   "id": "a65737e8",
   "metadata": {},
   "outputs": [],
   "source": [
    "classifier=BalancedBaggingClassifier(base_estimator=DecisionTreeClassifier(),sampling_strategy='not majority',replacement=False,random_state=1)"
   ]
  },
  {
   "cell_type": "code",
   "execution_count": 27,
   "id": "45e19dbc",
   "metadata": {},
   "outputs": [
    {
     "data": {
      "text/html": [
       "<style>#sk-container-id-1 {color: black;background-color: white;}#sk-container-id-1 pre{padding: 0;}#sk-container-id-1 div.sk-toggleable {background-color: white;}#sk-container-id-1 label.sk-toggleable__label {cursor: pointer;display: block;width: 100%;margin-bottom: 0;padding: 0.3em;box-sizing: border-box;text-align: center;}#sk-container-id-1 label.sk-toggleable__label-arrow:before {content: \"▸\";float: left;margin-right: 0.25em;color: #696969;}#sk-container-id-1 label.sk-toggleable__label-arrow:hover:before {color: black;}#sk-container-id-1 div.sk-estimator:hover label.sk-toggleable__label-arrow:before {color: black;}#sk-container-id-1 div.sk-toggleable__content {max-height: 0;max-width: 0;overflow: hidden;text-align: left;background-color: #f0f8ff;}#sk-container-id-1 div.sk-toggleable__content pre {margin: 0.2em;color: black;border-radius: 0.25em;background-color: #f0f8ff;}#sk-container-id-1 input.sk-toggleable__control:checked~div.sk-toggleable__content {max-height: 200px;max-width: 100%;overflow: auto;}#sk-container-id-1 input.sk-toggleable__control:checked~label.sk-toggleable__label-arrow:before {content: \"▾\";}#sk-container-id-1 div.sk-estimator input.sk-toggleable__control:checked~label.sk-toggleable__label {background-color: #d4ebff;}#sk-container-id-1 div.sk-label input.sk-toggleable__control:checked~label.sk-toggleable__label {background-color: #d4ebff;}#sk-container-id-1 input.sk-hidden--visually {border: 0;clip: rect(1px 1px 1px 1px);clip: rect(1px, 1px, 1px, 1px);height: 1px;margin: -1px;overflow: hidden;padding: 0;position: absolute;width: 1px;}#sk-container-id-1 div.sk-estimator {font-family: monospace;background-color: #f0f8ff;border: 1px dotted black;border-radius: 0.25em;box-sizing: border-box;margin-bottom: 0.5em;}#sk-container-id-1 div.sk-estimator:hover {background-color: #d4ebff;}#sk-container-id-1 div.sk-parallel-item::after {content: \"\";width: 100%;border-bottom: 1px solid gray;flex-grow: 1;}#sk-container-id-1 div.sk-label:hover label.sk-toggleable__label {background-color: #d4ebff;}#sk-container-id-1 div.sk-serial::before {content: \"\";position: absolute;border-left: 1px solid gray;box-sizing: border-box;top: 0;bottom: 0;left: 50%;z-index: 0;}#sk-container-id-1 div.sk-serial {display: flex;flex-direction: column;align-items: center;background-color: white;padding-right: 0.2em;padding-left: 0.2em;position: relative;}#sk-container-id-1 div.sk-item {position: relative;z-index: 1;}#sk-container-id-1 div.sk-parallel {display: flex;align-items: stretch;justify-content: center;background-color: white;position: relative;}#sk-container-id-1 div.sk-item::before, #sk-container-id-1 div.sk-parallel-item::before {content: \"\";position: absolute;border-left: 1px solid gray;box-sizing: border-box;top: 0;bottom: 0;left: 50%;z-index: -1;}#sk-container-id-1 div.sk-parallel-item {display: flex;flex-direction: column;z-index: 1;position: relative;background-color: white;}#sk-container-id-1 div.sk-parallel-item:first-child::after {align-self: flex-end;width: 50%;}#sk-container-id-1 div.sk-parallel-item:last-child::after {align-self: flex-start;width: 50%;}#sk-container-id-1 div.sk-parallel-item:only-child::after {width: 0;}#sk-container-id-1 div.sk-dashed-wrapped {border: 1px dashed gray;margin: 0 0.4em 0.5em 0.4em;box-sizing: border-box;padding-bottom: 0.4em;background-color: white;}#sk-container-id-1 div.sk-label label {font-family: monospace;font-weight: bold;display: inline-block;line-height: 1.2em;}#sk-container-id-1 div.sk-label-container {text-align: center;}#sk-container-id-1 div.sk-container {/* jupyter's `normalize.less` sets `[hidden] { display: none; }` but bootstrap.min.css set `[hidden] { display: none !important; }` so we also need the `!important` here to be able to override the default hidden behavior on the sphinx rendered scikit-learn.org. See: https://github.com/scikit-learn/scikit-learn/issues/21755 */display: inline-block !important;position: relative;}#sk-container-id-1 div.sk-text-repr-fallback {display: none;}</style><div id=\"sk-container-id-1\" class=\"sk-top-container\"><div class=\"sk-text-repr-fallback\"><pre>BalancedBaggingClassifier(base_estimator=DecisionTreeClassifier(),\n",
       "                          random_state=1, sampling_strategy=&#x27;not majority&#x27;)</pre><b>In a Jupyter environment, please rerun this cell to show the HTML representation or trust the notebook. <br />On GitHub, the HTML representation is unable to render, please try loading this page with nbviewer.org.</b></div><div class=\"sk-container\" hidden><div class=\"sk-item sk-dashed-wrapped\"><div class=\"sk-label-container\"><div class=\"sk-label sk-toggleable\"><input class=\"sk-toggleable__control sk-hidden--visually\" id=\"sk-estimator-id-1\" type=\"checkbox\" ><label for=\"sk-estimator-id-1\" class=\"sk-toggleable__label sk-toggleable__label-arrow\">BalancedBaggingClassifier</label><div class=\"sk-toggleable__content\"><pre>BalancedBaggingClassifier(base_estimator=DecisionTreeClassifier(),\n",
       "                          random_state=1, sampling_strategy=&#x27;not majority&#x27;)</pre></div></div></div><div class=\"sk-parallel\"><div class=\"sk-parallel-item\"><div class=\"sk-item\"><div class=\"sk-label-container\"><div class=\"sk-label sk-toggleable\"><input class=\"sk-toggleable__control sk-hidden--visually\" id=\"sk-estimator-id-2\" type=\"checkbox\" ><label for=\"sk-estimator-id-2\" class=\"sk-toggleable__label sk-toggleable__label-arrow\">base_estimator: DecisionTreeClassifier</label><div class=\"sk-toggleable__content\"><pre>DecisionTreeClassifier()</pre></div></div></div><div class=\"sk-serial\"><div class=\"sk-item\"><div class=\"sk-estimator sk-toggleable\"><input class=\"sk-toggleable__control sk-hidden--visually\" id=\"sk-estimator-id-3\" type=\"checkbox\" ><label for=\"sk-estimator-id-3\" class=\"sk-toggleable__label sk-toggleable__label-arrow\">DecisionTreeClassifier</label><div class=\"sk-toggleable__content\"><pre>DecisionTreeClassifier()</pre></div></div></div></div></div></div></div></div></div></div>"
      ],
      "text/plain": [
       "BalancedBaggingClassifier(base_estimator=DecisionTreeClassifier(),\n",
       "                          random_state=1, sampling_strategy='not majority')"
      ]
     },
     "execution_count": 27,
     "metadata": {},
     "output_type": "execute_result"
    }
   ],
   "source": [
    "classifier.fit(xtrain,ytrain)"
   ]
  },
  {
   "cell_type": "code",
   "execution_count": 28,
   "id": "4c1c033d",
   "metadata": {},
   "outputs": [],
   "source": [
    "ypred=classifier.predict(xtest)"
   ]
  },
  {
   "cell_type": "code",
   "execution_count": 29,
   "id": "4b19fa0b",
   "metadata": {},
   "outputs": [
    {
     "name": "stdout",
     "output_type": "stream",
     "text": [
      "              precision    recall  f1-score   support\n",
      "\n",
      "           0       0.93      0.91      0.92       234\n",
      "           1       0.64      0.68      0.66        53\n",
      "\n",
      "    accuracy                           0.87       287\n",
      "   macro avg       0.78      0.80      0.79       287\n",
      "weighted avg       0.87      0.87      0.87       287\n",
      "\n"
     ]
    },
    {
     "data": {
      "text/plain": [
       "array([[214,  20],\n",
       "       [ 17,  36]], dtype=int64)"
      ]
     },
     "execution_count": 29,
     "metadata": {},
     "output_type": "execute_result"
    }
   ],
   "source": [
    "print(classification_report(ytest,ypred))\n",
    "confusion_matrix(ytest,ypred)"
   ]
  },
  {
   "cell_type": "code",
   "execution_count": 30,
   "id": "7a8a7f27",
   "metadata": {},
   "outputs": [
    {
     "data": {
      "text/plain": [
       "0.8710801393728222"
      ]
     },
     "execution_count": 30,
     "metadata": {},
     "output_type": "execute_result"
    }
   ],
   "source": [
    "accuracy_score(ytest,ypred)"
   ]
  },
  {
   "cell_type": "code",
   "execution_count": null,
   "id": "d9b9b330",
   "metadata": {},
   "outputs": [],
   "source": []
  }
 ],
 "metadata": {
  "kernelspec": {
   "display_name": "Python 3 (ipykernel)",
   "language": "python",
   "name": "python3"
  },
  "language_info": {
   "codemirror_mode": {
    "name": "ipython",
    "version": 3
   },
   "file_extension": ".py",
   "mimetype": "text/x-python",
   "name": "python",
   "nbconvert_exporter": "python",
   "pygments_lexer": "ipython3",
   "version": "3.9.12"
  }
 },
 "nbformat": 4,
 "nbformat_minor": 5
}
